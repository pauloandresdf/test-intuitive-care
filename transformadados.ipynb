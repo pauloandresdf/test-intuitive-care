{
 "cells": [
  {
   "cell_type": "code",
   "execution_count": 69,
   "id": "faa56ea4-da7b-4afe-b9db-9502cf4cb053",
   "metadata": {},
   "outputs": [
    {
     "name": "stdout",
     "output_type": "stream",
     "text": [
      "302\n"
     ]
    }
   ],
   "source": [
    "import tabula\n",
    "import pandas as pd\n",
    "import zipfile\n",
    "import os\n",
    "\n",
    "lista_tabelas = tabula.read_pdf(\"Anexo_I_Rol_2021RN_465.2021_RN627L.2024.pdf\", pages=\"all\", encoding=\"ISO-8859-1\")\n",
    "print(len(lista_tabelas))"
   ]
  },
  {
   "cell_type": "code",
   "execution_count": 73,
   "id": "a5140a39-7810-48af-a6b0-b118e187c824",
   "metadata": {},
   "outputs": [
    {
     "name": "stdout",
     "output_type": "stream",
     "text": [
      "Tabela unificada salva como tabela_unificada.csv\n",
      "tabela_unificada.csv foi compactado em Teste_Paulo.zip\n",
      "tabela_unificada.csv foi removido após compactação.\n"
     ]
    }
   ],
   "source": [
    "# Dicionário de substituição\n",
    "substituicoes = {\n",
    "    \"OD\": \"Seg. Odontológica\",\n",
    "    \"AMB\": \"Seg. Ambulatorial\",\n",
    "    \"HCO\": \"Seg. Hospitalar Com Obstetrícia\",\n",
    "    \"HSO\": \"Seg. Hospitalar Sem Obstetrícia\",\n",
    "    \"REF\": \"Plano Referência\",\n",
    "    \"PAC\": \"Procedimento de Alta Complexidade\",\n",
    "    \"DUT\": \"Diretriz de Utilização\"\n",
    "}\n",
    "\n",
    "# Lista para armazenar todas as tabelas\n",
    "tabelas_consolidadas = []\n",
    "\n",
    "# Iterar pelas tabelas e realizar a substituição\n",
    "for tabela in lista_tabelas:\n",
    "    # Substituir as abreviações no índice\n",
    "    if tabela.index.dtype == 'object':\n",
    "        tabela.index = tabela.index.map(lambda x: substituicoes.get(x, x) if isinstance(x, str) else x)\n",
    "\n",
    "    # Adicionar a tabela à lista de tabelas consolidadas\n",
    "    tabelas_consolidadas.append(tabela)\n",
    "\n",
    "# Consolidar todas as tabelas em uma única tabela\n",
    "tabela_unificada = pd.concat(tabelas_consolidadas, ignore_index=True)\n",
    "\n",
    "# Salvar a tabela unificada em um arquivo CSV\n",
    "nome_arquivo_csv = \"tabela_unificada.csv\"\n",
    "tabela_unificada.to_csv(nome_arquivo_csv, index=False, encoding=\"utf-8\")\n",
    "print(f\"Tabela unificada salva como {nome_arquivo_csv}\")\n",
    "\n",
    "# Compactar o CSV em um arquivo ZIP\n",
    "zip_filename = f\"Teste_Paulo.zip\"  # Substitua \"Paulo\" pelo seu nome\n",
    "with zipfile.ZipFile(zip_filename, 'w') as zipf:\n",
    "    zipf.write(nome_arquivo_csv, os.path.basename(nome_arquivo_csv))\n",
    "    print(f\"{nome_arquivo_csv} foi compactado em {zip_filename}\")\n",
    "\n",
    "# Remover o arquivo CSV após compactação\n",
    "os.remove(nome_arquivo_csv)\n",
    "print(f\"{nome_arquivo_csv} foi removido após compactação.\")"
   ]
  },
  {
   "cell_type": "code",
   "execution_count": null,
   "id": "be15288d-23eb-4607-a6b0-fa08f3e05f6b",
   "metadata": {},
   "outputs": [],
   "source": [
    "!git "
   ]
  }
 ],
 "metadata": {
  "kernelspec": {
   "display_name": "Python [conda env:base] *",
   "language": "python",
   "name": "conda-base-py"
  },
  "language_info": {
   "codemirror_mode": {
    "name": "ipython",
    "version": 3
   },
   "file_extension": ".py",
   "mimetype": "text/x-python",
   "name": "python",
   "nbconvert_exporter": "python",
   "pygments_lexer": "ipython3",
   "version": "3.12.7"
  }
 },
 "nbformat": 4,
 "nbformat_minor": 5
}
